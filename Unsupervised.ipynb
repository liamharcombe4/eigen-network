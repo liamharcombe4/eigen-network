{
  "cells": [
    {
      "cell_type": "markdown",
      "metadata": {
        "id": "view-in-github",
        "colab_type": "text"
      },
      "source": [
        "<a href=\"https://colab.research.google.com/github/liamharcombe4/eigen-network/blob/main/Unsupervised.ipynb\" target=\"_parent\"><img src=\"https://colab.research.google.com/assets/colab-badge.svg\" alt=\"Open In Colab\"/></a>"
      ]
    },
    {
      "cell_type": "code",
      "execution_count": null,
      "metadata": {
        "id": "E-fhmwQeIKTS"
      },
      "outputs": [],
      "source": [
        "import tensorflow as tf\n",
        "import tensorflow_probability as tfp\n",
        "from tensorflow.keras import backend as K\n",
        "import numpy as np\n",
        "import pandas as pd\n",
        "import matplotlib.pyplot as plt\n",
        "import io"
      ]
    },
    {
      "cell_type": "markdown",
      "metadata": {
        "id": "CgEgZmi0IbEc"
      },
      "source": [
        "Data"
      ]
    },
    {
      "cell_type": "code",
      "execution_count": null,
      "metadata": {
        "id": "CvixvCWdIePT"
      },
      "outputs": [],
      "source": [
        "kappaInit = np.array([1,1,1,1,1,1,1,1,1,1])\n",
        "\n",
        "def kappaFun(x):\n",
        "  if 0 <= x and x < 0.1:\n",
        "    return kappaInit[0]\n",
        "  elif 0.1 <= x < 0.2:\n",
        "    return kappaInit[1]\n",
        "  elif 0.2 <= x < 0.3:\n",
        "    return kappaInit[2]\n",
        "  elif 0.3 <= x < 0.4:\n",
        "    return kappaInit[3]\n",
        "  elif 0.4 <= x < 0.5:\n",
        "    return kappaInit[4]\n",
        "  elif 0.5 <= x < 0.6:\n",
        "    return kappaInit[5]\n",
        "  elif 0.6 <= x < 0.7:\n",
        "    return kappaInit[6]\n",
        "  elif 0.7 <= x < 0.8:\n",
        "    return kappaInit[7]\n",
        "  elif 0.8 <= x < 0.9:\n",
        "    return kappaInit[8]\n",
        "  elif 0.9 <= x <= 1:\n",
        "    return kappaInit[9]\n",
        "  else:\n",
        "    return 0\n",
        "  \n",
        "# The number of nodes. Can be changed freely.\n",
        "n = 100\n",
        "\n",
        "x = np.linspace(0,1,n)\n",
        "ev = tf.Variable(np.ones((1)), trainable=True)\n",
        "evec = tf.Variable(np.random.rand(10,), trainable=True)\n",
        "evec_size = n\n",
        "h = x[1] - x[0]\n",
        "train_output = tf.ones([n,])\n",
        "train_inputs = tf.reshape(tf.tile(x, [1]), [1, n])\n",
        "train_outputs = tf.reshape(tf.tile(train_output, [1]), [1, n])\n",
        "kappa = np.array([kappaFun(xn) for xn in x])\n",
        "\n",
        "# Calculate derivative at left endpoint (Error found below, u1 t0 u0 for the first term, QD)\n",
        "def leftEndDer(u0,u1,u2):\n",
        "  return -3/(2*h)*u0 + 2/h*u1 - 1/(2*h)*u2\n",
        "\n",
        "# Calculate derivative at right endpoint\n",
        "def rightEndDer(un2,un1,un0):\n",
        "  return 3/(2*h)*un0 - 2/h*un1 + 1/(2*h)*un2\n",
        "\n",
        "# Calculate derivative at inner point (non-endpoint)\n",
        "def innerDer(p0,p2):\n",
        "  return (p2-p0)/(2*h)\n",
        "\n",
        "# Calculate the derivative vector\n",
        "# firstDer is defined differently to secondDer as kappa*y_pred has a different shape to y_pred\n",
        "def firstDer(vector):\n",
        "  vector_num = vector\n",
        "\n",
        "  left_der = leftEndDer(vector[0][0],vector[0][1],vector[0][2])\n",
        "  right_der = leftEndDer(vector[0][-3],vector[0][-2],vector[0][-1])\n",
        "\n",
        "  processed = [left_der]\n",
        "  unstacked = tf.unstack(vector[0])\n",
        "  for i in range(0,len(unstacked)-2):\n",
        "    processed.append(innerDer(unstacked[i], unstacked[i+2]))\n",
        "  \n",
        "  processed.append(right_der)\n",
        "\n",
        "  return tf.stack(processed, 0)\n",
        "\n",
        "def secondDer(vector):\n",
        "  vector_num = vector\n",
        "\n",
        "  left_der = leftEndDer(vector[0],vector[1],vector[2])\n",
        "  right_der = leftEndDer(vector[-3],vector[-2],vector[-1])\n",
        "\n",
        "  processed = [left_der]\n",
        "  unstacked = tf.unstack(vector)\n",
        "  for i in range(0,len(unstacked)-2):\n",
        "    processed.append(innerDer(unstacked[i], unstacked[i+2]))\n",
        "  \n",
        "  processed.append(right_der)\n",
        "\n",
        "  return tf.stack(processed, 0)"
      ]
    },
    {
      "cell_type": "markdown",
      "metadata": {
        "id": "SEvACEQa-GbR"
      },
      "source": [
        "Model"
      ]
    },
    {
      "cell_type": "code",
      "execution_count": null,
      "metadata": {
        "id": "QZS1STs8zYPE"
      },
      "outputs": [],
      "source": [
        "sin = tf.math.sin\n",
        "\n",
        "# Input only the x values\n",
        "inputs = tf.keras.Input(shape=(n,1))\n",
        "\n",
        "# For eigenvalue\n",
        "a = tf.keras.layers.Dense(300, activation=\"relu\")(inputs)\n",
        "a = tf.keras.layers.Dense(200, activation=\"relu\")(a)\n",
        "a = tf.keras.layers.Flatten()(a)\n",
        "ev_out = tf.keras.layers.Dense(1)(a)\n",
        "\n",
        "# For eigenfunction\n",
        "b = tf.keras.layers.Dense(300, activation=\"relu\")(inputs)\n",
        "b = tf.keras.layers.Dense(300, activation=sin)(b)\n",
        "b = tf.keras.layers.Dense(300, activation=\"relu\")(b)\n",
        "b = tf.keras.layers.Flatten()(b)\n",
        "evec_out = tf.keras.layers.Dense(n)(b)\n",
        "\n",
        "outputs = tf.keras.layers.Concatenate(axis=1)([ev_out, evec_out])\n",
        "\n",
        "model = tf.keras.Model(inputs=inputs, outputs=outputs, name=\"model\")\n",
        "\n",
        "def midpoint_area(p1,p2):\n",
        "  return h*(p2+p1)/2\n",
        "\n",
        "def integral(tensor):\n",
        "  processed = []\n",
        "  unstacked = tf.unstack(tensor)\n",
        "  for i in range(0,len(unstacked)-1):\n",
        "    processed.append(midpoint_area(unstacked[i], unstacked[i+1]))\n",
        "\n",
        "  return tf.math.reduce_sum(tf.stack(processed, 0))\n",
        "\n",
        "\n",
        "epochs = 130000\n",
        "\n",
        "@tf.autograph.experimental.do_not_convert\n",
        "def my_loss(y_true, y_pred):\n",
        "  \n",
        "  ev = y_pred[0][0]\n",
        "  evec = y_pred[0][1:]\n",
        "  D = tf.math.sqrt(tf.math.reduce_mean((secondDer(kappa*secondDer(evec)) + ev*evec)**2))\n",
        "  \n",
        "  return D + 1/h**2*(evec[0]**2 + evec[-1]**2 + (integral(evec) - 1)**2)\n",
        "\n",
        "model.compile(\n",
        "    loss = my_loss,\n",
        "    optimizer = tf.keras.optimizers.Adam(learning_rate=1e-6)\n",
        ")\n",
        "\n",
        "ev_list = []\n",
        "evec_list = []"
      ]
    },
    {
      "cell_type": "code",
      "execution_count": null,
      "metadata": {
        "colab": {
          "base_uri": "https://localhost:8080/",
          "height": 425
        },
        "id": "DKE1MHjf0IDn",
        "outputId": "c2114674-cbdc-489a-fc60-ac592d43dfa6"
      },
      "outputs": [
        {
          "output_type": "error",
          "ename": "KeyboardInterrupt",
          "evalue": "ignored",
          "traceback": [
            "\u001b[0;31m---------------------------------------------------------------------------\u001b[0m",
            "\u001b[0;31mKeyboardInterrupt\u001b[0m                         Traceback (most recent call last)",
            "\u001b[0;32m<timed exec>\u001b[0m in \u001b[0;36m<module>\u001b[0;34m\u001b[0m\n",
            "\u001b[0;32m/usr/local/lib/python3.7/dist-packages/keras/utils/traceback_utils.py\u001b[0m in \u001b[0;36merror_handler\u001b[0;34m(*args, **kwargs)\u001b[0m\n\u001b[1;32m     62\u001b[0m     \u001b[0mfiltered_tb\u001b[0m \u001b[0;34m=\u001b[0m \u001b[0;32mNone\u001b[0m\u001b[0;34m\u001b[0m\u001b[0;34m\u001b[0m\u001b[0m\n\u001b[1;32m     63\u001b[0m     \u001b[0;32mtry\u001b[0m\u001b[0;34m:\u001b[0m\u001b[0;34m\u001b[0m\u001b[0;34m\u001b[0m\u001b[0m\n\u001b[0;32m---> 64\u001b[0;31m       \u001b[0;32mreturn\u001b[0m \u001b[0mfn\u001b[0m\u001b[0;34m(\u001b[0m\u001b[0;34m*\u001b[0m\u001b[0margs\u001b[0m\u001b[0;34m,\u001b[0m \u001b[0;34m**\u001b[0m\u001b[0mkwargs\u001b[0m\u001b[0;34m)\u001b[0m\u001b[0;34m\u001b[0m\u001b[0;34m\u001b[0m\u001b[0m\n\u001b[0m\u001b[1;32m     65\u001b[0m     \u001b[0;32mexcept\u001b[0m \u001b[0mException\u001b[0m \u001b[0;32mas\u001b[0m \u001b[0me\u001b[0m\u001b[0;34m:\u001b[0m  \u001b[0;31m# pylint: disable=broad-except\u001b[0m\u001b[0;34m\u001b[0m\u001b[0;34m\u001b[0m\u001b[0m\n\u001b[1;32m     66\u001b[0m       \u001b[0mfiltered_tb\u001b[0m \u001b[0;34m=\u001b[0m \u001b[0m_process_traceback_frames\u001b[0m\u001b[0;34m(\u001b[0m\u001b[0me\u001b[0m\u001b[0;34m.\u001b[0m\u001b[0m__traceback__\u001b[0m\u001b[0;34m)\u001b[0m\u001b[0;34m\u001b[0m\u001b[0;34m\u001b[0m\u001b[0m\n",
            "\u001b[0;32m/usr/local/lib/python3.7/dist-packages/keras/engine/training.py\u001b[0m in \u001b[0;36mfit\u001b[0;34m(self, x, y, batch_size, epochs, verbose, callbacks, validation_split, validation_data, shuffle, class_weight, sample_weight, initial_epoch, steps_per_epoch, validation_steps, validation_batch_size, validation_freq, max_queue_size, workers, use_multiprocessing)\u001b[0m\n\u001b[1;32m   1394\u001b[0m           self._maybe_load_initial_epoch_from_ckpt(initial_epoch))\n\u001b[1;32m   1395\u001b[0m       \u001b[0mlogs\u001b[0m \u001b[0;34m=\u001b[0m \u001b[0;32mNone\u001b[0m\u001b[0;34m\u001b[0m\u001b[0;34m\u001b[0m\u001b[0m\n\u001b[0;32m-> 1396\u001b[0;31m       \u001b[0;32mfor\u001b[0m \u001b[0mepoch\u001b[0m\u001b[0;34m,\u001b[0m \u001b[0miterator\u001b[0m \u001b[0;32min\u001b[0m \u001b[0mdata_handler\u001b[0m\u001b[0;34m.\u001b[0m\u001b[0menumerate_epochs\u001b[0m\u001b[0;34m(\u001b[0m\u001b[0;34m)\u001b[0m\u001b[0;34m:\u001b[0m\u001b[0;34m\u001b[0m\u001b[0;34m\u001b[0m\u001b[0m\n\u001b[0m\u001b[1;32m   1397\u001b[0m         \u001b[0mself\u001b[0m\u001b[0;34m.\u001b[0m\u001b[0mreset_metrics\u001b[0m\u001b[0;34m(\u001b[0m\u001b[0;34m)\u001b[0m\u001b[0;34m\u001b[0m\u001b[0;34m\u001b[0m\u001b[0m\n\u001b[1;32m   1398\u001b[0m         \u001b[0mcallbacks\u001b[0m\u001b[0;34m.\u001b[0m\u001b[0mon_epoch_begin\u001b[0m\u001b[0;34m(\u001b[0m\u001b[0mepoch\u001b[0m\u001b[0;34m)\u001b[0m\u001b[0;34m\u001b[0m\u001b[0;34m\u001b[0m\u001b[0m\n",
            "\u001b[0;32m/usr/local/lib/python3.7/dist-packages/keras/engine/data_adapter.py\u001b[0m in \u001b[0;36menumerate_epochs\u001b[0;34m(self)\u001b[0m\n\u001b[1;32m   1191\u001b[0m     \u001b[0;34m\"\"\"Yields `(epoch, tf.data.Iterator)`.\"\"\"\u001b[0m\u001b[0;34m\u001b[0m\u001b[0;34m\u001b[0m\u001b[0m\n\u001b[1;32m   1192\u001b[0m     \u001b[0;32mwith\u001b[0m \u001b[0mself\u001b[0m\u001b[0;34m.\u001b[0m\u001b[0m_truncate_execution_to_epoch\u001b[0m\u001b[0;34m(\u001b[0m\u001b[0;34m)\u001b[0m\u001b[0;34m:\u001b[0m\u001b[0;34m\u001b[0m\u001b[0;34m\u001b[0m\u001b[0m\n\u001b[0;32m-> 1193\u001b[0;31m       \u001b[0mdata_iterator\u001b[0m \u001b[0;34m=\u001b[0m \u001b[0miter\u001b[0m\u001b[0;34m(\u001b[0m\u001b[0mself\u001b[0m\u001b[0;34m.\u001b[0m\u001b[0m_dataset\u001b[0m\u001b[0;34m)\u001b[0m\u001b[0;34m\u001b[0m\u001b[0;34m\u001b[0m\u001b[0m\n\u001b[0m\u001b[1;32m   1194\u001b[0m       \u001b[0;32mfor\u001b[0m \u001b[0mepoch\u001b[0m \u001b[0;32min\u001b[0m \u001b[0mrange\u001b[0m\u001b[0;34m(\u001b[0m\u001b[0mself\u001b[0m\u001b[0;34m.\u001b[0m\u001b[0m_initial_epoch\u001b[0m\u001b[0;34m,\u001b[0m \u001b[0mself\u001b[0m\u001b[0;34m.\u001b[0m\u001b[0m_epochs\u001b[0m\u001b[0;34m)\u001b[0m\u001b[0;34m:\u001b[0m\u001b[0;34m\u001b[0m\u001b[0;34m\u001b[0m\u001b[0m\n\u001b[1;32m   1195\u001b[0m         \u001b[0;32mif\u001b[0m \u001b[0mself\u001b[0m\u001b[0;34m.\u001b[0m\u001b[0m_insufficient_data\u001b[0m\u001b[0;34m:\u001b[0m  \u001b[0;31m# Set by `catch_stop_iteration`.\u001b[0m\u001b[0;34m\u001b[0m\u001b[0;34m\u001b[0m\u001b[0m\n",
            "\u001b[0;32m/usr/local/lib/python3.7/dist-packages/tensorflow/python/data/ops/dataset_ops.py\u001b[0m in \u001b[0;36m__iter__\u001b[0;34m(self)\u001b[0m\n\u001b[1;32m    492\u001b[0m     \u001b[0;32mif\u001b[0m \u001b[0mcontext\u001b[0m\u001b[0;34m.\u001b[0m\u001b[0mexecuting_eagerly\u001b[0m\u001b[0;34m(\u001b[0m\u001b[0;34m)\u001b[0m \u001b[0;32mor\u001b[0m \u001b[0mops\u001b[0m\u001b[0;34m.\u001b[0m\u001b[0minside_function\u001b[0m\u001b[0;34m(\u001b[0m\u001b[0;34m)\u001b[0m\u001b[0;34m:\u001b[0m\u001b[0;34m\u001b[0m\u001b[0;34m\u001b[0m\u001b[0m\n\u001b[1;32m    493\u001b[0m       \u001b[0;32mwith\u001b[0m \u001b[0mops\u001b[0m\u001b[0;34m.\u001b[0m\u001b[0mcolocate_with\u001b[0m\u001b[0;34m(\u001b[0m\u001b[0mself\u001b[0m\u001b[0;34m.\u001b[0m\u001b[0m_variant_tensor\u001b[0m\u001b[0;34m)\u001b[0m\u001b[0;34m:\u001b[0m\u001b[0;34m\u001b[0m\u001b[0;34m\u001b[0m\u001b[0m\n\u001b[0;32m--> 494\u001b[0;31m         \u001b[0;32mreturn\u001b[0m \u001b[0miterator_ops\u001b[0m\u001b[0;34m.\u001b[0m\u001b[0mOwnedIterator\u001b[0m\u001b[0;34m(\u001b[0m\u001b[0mself\u001b[0m\u001b[0;34m)\u001b[0m\u001b[0;34m\u001b[0m\u001b[0;34m\u001b[0m\u001b[0m\n\u001b[0m\u001b[1;32m    495\u001b[0m     \u001b[0;32melse\u001b[0m\u001b[0;34m:\u001b[0m\u001b[0;34m\u001b[0m\u001b[0;34m\u001b[0m\u001b[0m\n\u001b[1;32m    496\u001b[0m       raise RuntimeError(\"`tf.data.Dataset` only supports Python-style \"\n",
            "\u001b[0;32m/usr/local/lib/python3.7/dist-packages/tensorflow/python/data/ops/iterator_ops.py\u001b[0m in \u001b[0;36m__init__\u001b[0;34m(self, dataset, components, element_spec)\u001b[0m\n\u001b[1;32m    694\u001b[0m             \u001b[0;34m\"When `dataset` is provided, `element_spec` and `components` must \"\u001b[0m\u001b[0;34m\u001b[0m\u001b[0;34m\u001b[0m\u001b[0m\n\u001b[1;32m    695\u001b[0m             \"not be specified.\")\n\u001b[0;32m--> 696\u001b[0;31m       \u001b[0mself\u001b[0m\u001b[0;34m.\u001b[0m\u001b[0m_create_iterator\u001b[0m\u001b[0;34m(\u001b[0m\u001b[0mdataset\u001b[0m\u001b[0;34m)\u001b[0m\u001b[0;34m\u001b[0m\u001b[0;34m\u001b[0m\u001b[0m\n\u001b[0m\u001b[1;32m    697\u001b[0m \u001b[0;34m\u001b[0m\u001b[0m\n\u001b[1;32m    698\u001b[0m     \u001b[0mself\u001b[0m\u001b[0;34m.\u001b[0m\u001b[0m_get_next_call_count\u001b[0m \u001b[0;34m=\u001b[0m \u001b[0;36m0\u001b[0m\u001b[0;34m\u001b[0m\u001b[0;34m\u001b[0m\u001b[0m\n",
            "\u001b[0;32m/usr/local/lib/python3.7/dist-packages/tensorflow/python/data/ops/iterator_ops.py\u001b[0m in \u001b[0;36m_create_iterator\u001b[0;34m(self, dataset)\u001b[0m\n\u001b[1;32m    719\u001b[0m               \u001b[0moutput_types\u001b[0m\u001b[0;34m=\u001b[0m\u001b[0mself\u001b[0m\u001b[0;34m.\u001b[0m\u001b[0m_flat_output_types\u001b[0m\u001b[0;34m,\u001b[0m\u001b[0;34m\u001b[0m\u001b[0;34m\u001b[0m\u001b[0m\n\u001b[1;32m    720\u001b[0m               output_shapes=self._flat_output_shapes))\n\u001b[0;32m--> 721\u001b[0;31m       \u001b[0mgen_dataset_ops\u001b[0m\u001b[0;34m.\u001b[0m\u001b[0mmake_iterator\u001b[0m\u001b[0;34m(\u001b[0m\u001b[0mds_variant\u001b[0m\u001b[0;34m,\u001b[0m \u001b[0mself\u001b[0m\u001b[0;34m.\u001b[0m\u001b[0m_iterator_resource\u001b[0m\u001b[0;34m)\u001b[0m\u001b[0;34m\u001b[0m\u001b[0;34m\u001b[0m\u001b[0m\n\u001b[0m\u001b[1;32m    722\u001b[0m \u001b[0;34m\u001b[0m\u001b[0m\n\u001b[1;32m    723\u001b[0m   \u001b[0;32mdef\u001b[0m \u001b[0m__iter__\u001b[0m\u001b[0;34m(\u001b[0m\u001b[0mself\u001b[0m\u001b[0;34m)\u001b[0m\u001b[0;34m:\u001b[0m\u001b[0;34m\u001b[0m\u001b[0;34m\u001b[0m\u001b[0m\n",
            "\u001b[0;32m/usr/local/lib/python3.7/dist-packages/tensorflow/python/ops/gen_dataset_ops.py\u001b[0m in \u001b[0;36mmake_iterator\u001b[0;34m(dataset, iterator, name)\u001b[0m\n\u001b[1;32m   3408\u001b[0m     \u001b[0;32mtry\u001b[0m\u001b[0;34m:\u001b[0m\u001b[0;34m\u001b[0m\u001b[0;34m\u001b[0m\u001b[0m\n\u001b[1;32m   3409\u001b[0m       _result = pywrap_tfe.TFE_Py_FastPathExecute(\n\u001b[0;32m-> 3410\u001b[0;31m         _ctx, \"MakeIterator\", name, dataset, iterator)\n\u001b[0m\u001b[1;32m   3411\u001b[0m       \u001b[0;32mreturn\u001b[0m \u001b[0m_result\u001b[0m\u001b[0;34m\u001b[0m\u001b[0;34m\u001b[0m\u001b[0m\n\u001b[1;32m   3412\u001b[0m     \u001b[0;32mexcept\u001b[0m \u001b[0m_core\u001b[0m\u001b[0;34m.\u001b[0m\u001b[0m_NotOkStatusException\u001b[0m \u001b[0;32mas\u001b[0m \u001b[0me\u001b[0m\u001b[0;34m:\u001b[0m\u001b[0;34m\u001b[0m\u001b[0;34m\u001b[0m\u001b[0m\n",
            "\u001b[0;31mKeyboardInterrupt\u001b[0m: "
          ]
        }
      ],
      "source": [
        "%%time\n",
        "for i in range(epochs):\n",
        "    epoch = np.repeat(float(i), n)\n",
        "\n",
        "    # make train outputs the epoch number to be used in the loss function\n",
        "\n",
        "    epoch_tile = tf.reshape(tf.tile(epoch, [1]), [1,n])\n",
        "\n",
        "    model.fit(train_inputs, epoch_tile, epochs=1, verbose=0)\n",
        "\n",
        "    #every 1000 epochs output the ev and evec predictions\n",
        "    if (i % 1000 == 0):\n",
        "      ev_fun = K.function([model.layers[0].input], model.layers[-3].output)\n",
        "      ev = ev_fun(train_inputs)[0]\n",
        "      ev_list.append(ev)\n",
        "\n",
        "      evec_fun = K.function([model.layers[0].input], model.layers[-2].output)\n",
        "      evec = evec_fun(train_inputs)[0]\n",
        "      evec_list.append(evec)\n",
        "      print(\"epoch:\", i, \"ev:\", ev)"
      ]
    },
    {
      "cell_type": "markdown",
      "metadata": {
        "id": "5FLAdxmfzVaF"
      },
      "source": [
        "Results and Testing"
      ]
    },
    {
      "cell_type": "code",
      "execution_count": null,
      "metadata": {
        "colab": {
          "base_uri": "https://localhost:8080/",
          "height": 336
        },
        "id": "bV6DmquJ5Y9Q",
        "outputId": "1cc12251-bf98-45fb-9b05-9433c30dbc42"
      },
      "outputs": [
        {
          "output_type": "stream",
          "name": "stdout",
          "text": [
            "1/1 [==============================] - 0s 164ms/step\n",
            "1/1 [==============================] - 0s 16ms/step\n",
            "average evec percentage error in non-endpoint coordinates: 53.7299%\n",
            "ev percentage error: 79.84434953197793% where true = 9.869604401089358 and pred = 1.9892828\n"
          ]
        },
        {
          "output_type": "display_data",
          "data": {
            "text/plain": [
              "<Figure size 432x288 with 1 Axes>"
            ],
            "image/png": "[encoded data removed]"
          },
          "metadata": {
            "needs_background": "light"
          }
        }
      ],
      "source": [
        "ev_pred = model.predict(train_inputs)[0][0]\n",
        "evec_pred = model.predict(train_inputs)[0][1:]\n",
        "evec_true = np.array([np.pi/2*np.sin(np.pi*xi) for xi in x])\n",
        "ev_true = np.pi**2\n",
        "\n",
        "ev_error = abs((ev_pred - ev_true)/ev_true)\n",
        "evec_error = np.array([abs((x - y)/y) for x, y in zip(evec_pred[1:-1], evec_true[1:-1])]).mean()\n",
        "\n",
        "print(\"average evec percentage error in non-endpoint coordinates:\", str(round(100*evec_error, 4)) + \"%\")\n",
        "print(\"ev percentage error:\", str(round(100*ev_error, 20)) + \"%\", \"where true =\", round(ev_true,20), \"and pred =\", round(ev_pred,20))\n",
        "plt.plot(x, evec_pred)\n",
        "plt.show()"
      ]
    },
    {
      "cell_type": "code",
      "source": [
        "plt.plot(evec_true)\n",
        "plt.show()"
      ],
      "metadata": {
        "colab": {
          "base_uri": "https://localhost:8080/",
          "height": 265
        },
        "id": "TCP5cLWeqPE_",
        "outputId": "f2ac21ac-e934-43df-b320-977f38a55191"
      },
      "execution_count": null,
      "outputs": [
        {
          "output_type": "display_data",
          "data": {
            "text/plain": [
              "<Figure size 432x288 with 1 Axes>"
            ],
            "image/png": "[encoded data removed]"
          },
          "metadata": {
            "needs_background": "light"
          }
        }
      ]
    },
    {
      "cell_type": "code",
      "execution_count": null,
      "metadata": {
        "colab": {
          "base_uri": "https://localhost:8080/",
          "height": 283
        },
        "id": "LSMRPQweQjAc",
        "outputId": "0164695c-5117-4f77-86c3-b74466d48d77"
      },
      "outputs": [
        {
          "output_type": "execute_result",
          "data": {
            "text/plain": [
              "[<matplotlib.lines.Line2D at 0x7fcea0f72550>]"
            ]
          },
          "metadata": {},
          "execution_count": 8
        },
        {
          "output_type": "display_data",
          "data": {
            "text/plain": [
              "<Figure size 432x288 with 1 Axes>"
            ],
            "image/png": "[encoded data removed]"
          },
          "metadata": {
            "needs_background": "light"
          }
        }
      ],
      "source": [
        "plt.plot(ev_list)"
      ]
    },
    {
      "cell_type": "code",
      "execution_count": null,
      "metadata": {
        "colab": {
          "base_uri": "https://localhost:8080/",
          "height": 561
        },
        "id": "sz_h-D3nUSEC",
        "outputId": "bebd08b1-803f-4ac1-fe10-84fad6d792cb"
      },
      "outputs": [
        {
          "output_type": "execute_result",
          "data": {
            "text/plain": [
              "<IPython.core.display.HTML object>"
            ],
            "text/html": [
              "<video width=\"432\" height=\"288\" controls autoplay loop>\n",
              "  <source type=\"video/mp4\" src=\"data:video/mp4;base64,AAAAHGZ0eXBNNFYgAAACAGlzb21pc28yYXZjMQAAAAhmcmVlAAAXNG1kYXQAAAKuBgX//6rcRem9\n",
              "5tlIt5Ys2CDZI+7veDI2NCAtIGNvcmUgMTUyIHIyODU0IGU5YTU5MDMgLSBILjI2NC9NUEVHLTQg\n",
              "QVZDIGNvZGVjIC0gQ29weWxlZnQgMjAwMy0yMDE3IC0gaHR0cDovL3d3dy52aWRlb2xhbi5vcmcv\n",
              "eDI2NC5odG1sIC0gb3B0aW9uczogY2FiYWM9MSByZWY9MyBkZWJsb2NrPTE6MDowIGFuYWx5c2U9\n",
              "MHgzOjB4MTEzIG1lPWhleCBzdWJtZT03IHBzeT0xIHBzeV9yZD0xLjAwOjAuMDAgbWl4ZWRfcmVm\n",
              "PTEgbWVfcmFuZ2U9MTYgY2hyb21hX21lPTEgdHJlbGxpcz0xIDh4OGRjdD0xIGNxbT0wIGRlYWR6\n",
              "b25lPTIxLDExIGZhc3RfcHNraXA9MSBjaHJvbWFfcXBfb2Zmc2V0PS0yIHRocmVhZHM9MyBsb29r\n",
              "YWhlYWRfdGhyZWFkcz0xIHNsaWNlZF90aHJlYWRzPTAgbnI9MCBkZWNpbWF0ZT0xIGludGVybGFj\n",
              "ZWQ9MCBibHVyYXlfY29tcGF0PTAgY29uc3RyYWluZWRfaW50cmE9MCBiZnJhbWVzPTMgYl9weXJh\n",
              "bWlkPTIgYl9hZGFwdD0xIGJfYmlhcz0wIGRpcmVjdD0xIHdlaWdodGI9MSBvcGVuX2dvcD0wIHdl\n",
              "aWdodHA9MiBrZXlpbnQ9MjUwIGtleWludF9taW49MjAgc2NlbmVjdXQ9NDAgaW50cmFfcmVmcmVz\n",
              "aD0wIHJjX2xvb2thaGVhZD00MCByYz1jcmYgbWJ0cmVlPTEgY3JmPTIzLjAgcWNvbXA9MC42MCBx\n",
              "cG1pbj0wIHFwbWF4PTY5IHFwc3RlcD00IGlwX3JhdGlvPTEuNDAgYXE9MToxLjAwAIAAAApgZYiE\n",
              "ADP//vbsvgU1/Z/QlxEsxdpKcD4qpICAdzTAAAADAAB4He8+UME3qAG/Jw80nij/JQFtVDK6+YXU\n",
              "8JwjTMPfYSX3ZCTpNbYnyMaiQhYAAAU/O916Wtyfzzcc6Urqvj3w7bK4r987UFSunuUBTFTKu/ti\n",
              "MaVPgXUriXUQ0BcNsNs7ZWf15lHmtcYE+gvAf8Uk7xVv9m3cR8rCZyrXq2WNxq5mM1uHNG1que9J\n",
              "7HFPwaV2mYZGlEiRrcbeRJ9tEiS3SjpS1xBv4AAPcWPKeOyz9U1idrX56HT6jqpG/ITcIMRdm78o\n",
              "IGPdLTkq4QKPB/rCaY8HumsLVZzwexFZOMAb/i+MYTEBawXwJl9jXgdZ6NGgO7X/qnA5M0yDQt9U\n",
              "c0sKfFc+JA+9fzcJiQz2/xY91T0nJtygAIpTMEEwALwHcSrZhH9FSqhHqJuuHRIn3TyszDNeqe/H\n",
              "tpwaPr6ts2xbMFdBu5urwNeQUSHU0g4iz5zWvRyY/xIHapsIQo/NlaZ5vKLjECM1a1l+8io/BEGl\n",
              "TQ9yW1KhR3aN7K9HdG2Ii+D9SgXi4CvPBe/p1BQikaW67HPjeqEZZd0AyWu44GnfAXFT7NjxgW4K\n",
              "FBUum2hPaff4KeCnwFTTDrsTYPdziGPkKMUoQ2/nGegFdeUrV1UwceQSZUqmaVKHfolpWvzmGlc9\n",
              "PsH0JXtBbpP+lqG8DZh95VF9vQGZcyYeSL1P5971yYEQKIgBuAnCGfSCf9qgk6cMnCdBnVNfcQNY\n",
              "Qpi8dJS+TtFGPj9xb5Wx63GVdpzn7F0lDeSp1cZmkIOIVXcdJ5AaYQFys+AyrRWqjFJSksulxzWy\n",
              "c2TWEwBOAfVywdTmm4UTzPrClmMKP/WUECTukP95yLbsMPOxmoSSokCuguAnV585cfButmbbDoEu\n",
              "KWrIDsrK9IDn7qyIHfUBHzs3PC32ODIdxxSWBpS2i/APosuVWgQDIt4ccRZUCSfPOZyXHFBFZ1N0\n",
              "PZdYOAvRpjhWtMamG+QJMMH990IrAAxqO1qBZnREd8fiqIUn9QqZNrHgP+F3DHTx2WbLe+CCEniF\n",
              "tAvOV1nM4MEm9p9+D5ES6hqUI1s98vgMfh45GPqiiL9OkCSATEWWAe2LnPkNlCUavIf5OTWWeadH\n",
              "tuijP3/iJEdveh9MIxFU5U1nTtG546jw3zIW+f1fQqUH94t6dKeEWKoJ9SkpoUmBs6LAOEhJAvqd\n",
              "6POd0zbTn8KXWcUBlBNWo75U/aGgj8k8iXGthmwaeC2W4rl/gM2Yek00YICehHtKBB/l3XdD/9Yd\n",
              "Rfm1rWi53uYzjtc5Y2T3GGSpccA4dFQIEdaDghH5pYeivSCp7yVe0xy+P+mP4SP4elZt5TGRJt4U\n",
              "6mHcf+7nWTIahP0B0pR+jFZ01rqpoKeD73ME+SHnzcspeQ6wtQaMabF6WvEcOtcGT+9VzmUefI5C\n",
              "upHWTO8QGgs3E+WazIXydBf7ArIJYEUg15yMCcLHMeKW7MaukJEeLnLkTBq3lX2R75eRtLFx8zN+\n",
              "kKqrH023owfOpnvFBgyHVq08e+b73KjNGrFsgXFqFEoIte656HdEbqoPmp3C6QapKCvakO/wJi5p\n",
              "/Vj4/1Jsmor3q3+Y796CMTM9SC6MxjprvvRux0G5AxVPGgxmgMgA2mDp/iI7S7zqdG5i2XyjbhiU\n",
              "Sd+tl6fwKWRYhllCXnvGFm9EhsqLC+Xs/0Q6OAp0/EELGpdnTZiiQoa7lB+BS/QQet5EjeJEkD+X\n",
              "T92oa06hTSQAUzFLZpSwwQIR/F8d/PvHEJl2w3JYew2+3P5SjUeNUt09jHnJK2K+ZZX/ffEYLr9v\n",
              "F6j90mpETx89JUbnjZcWU4jOxvvmdPoFtmVNVUP4S01Y6Frbr4gUehF17WEcF83BEagxu1Ea/bzM\n",
              "IVcRckVXkJcjPtmcMCeIRe4R9g3+5p4E8LSd/YnnSwbfn0ADVnXuvL7Yd1zGkLeJ2OFy93hNfVI5\n",
              "YLLYenQDfqyeXCjw6G55Qj9XjulYg67GZsSd0kXnSLTnFTcHcso2kPfC69ARwIKhknPSCLnxTkA+\n",
              "Y6djzS0wedEDuirm0JW0sUQLeBYUP+J9sdviLAAQpEDG0UtKCQNBIgLZiMkWDnXt8hfh/wPTNge8\n",
              "JMIyLdc9c//2gkz+4nhJ9Kz97I2k/KBrM4/yBXuSfb2zslrbB/88cWDGqTh9tXwn+cy1qi1vYpyG\n",
              "XAQmOfGybtcuQa6zvSzh7PHPNSTbKfNVB2Kp5znqL4MpEeDmww5NQqH536W6MfT5q/1bWdYlv6Y/\n",
              "/8oQDu7Ce32Y7F0rICwTt/S9ajhO0yH43cFX9XCb4QeTq8lITlc//7SmAiQJV/H35eSKCLrD+299\n",
              "oPtqNx/QEIeqMhZNcbqYi7KSzN63LzbUPZGoir6HxWoK4twrqZUfNwymMMnV2/wMgPqTWRrpv6zP\n",
              "ciBFxBt0sym2YXjpBs56+Z7HQjB1sWqGeDYAAAMCOMjY9Nkr2KWAAEikUfOKNx0d0qOT+GJ0qEDL\n",
              "On8UMXNI7eB2xTSvzKLUbTfe8Ah1p38Y8962X1IPgEZzMCrjBabT5DUD2c1edM0eNE+ib0jdCC6R\n",
              "zjR+Q7GiL/hWqQ3KOh7RD6twx3uAvgFboAFlYTLcGe024DWKVh/lHHqNfyjsEE7DHgMILRtuaPmv\n",
              "jkOJ/UvAfW9qdzVz57qdW36633heR+XpYrfFeCuKhAbmTh+X3XUE/4cyn/bd0pHCE+A1GvOkdalt\n",
              "JgXe+BP+P3slMO3ua150ix1hCY+RdAO9MK9FgcjqCJk0XiCR3KFOEWFvDbiSo0w+QxOZYYtBLpSs\n",
              "S6oNyf8lz7sCWs/IsJdRJ/Vc/YLKdDFeQH0hTAjMCh64NBPRaPTOa/yeFJSV4r8vGo8S+qKvFizT\n",
              "YBgD96qK2PFUGQJuY6a4AIAm/BdOEbF+u1R8UMSiASP57vFbE35Nbo747L7u84fmWwtuhLgGp/vG\n",
              "+SXfpCup706oHPOZ5zyYNfhQg15ev8XW9WE0y0x/E3Jw5+c9b7TUqwL4vkhJQua4R7H/NDTTMa3u\n",
              "QMOz2UgeLV9g9j6+M8ZivXf7AgSTeU/dYv1owwewzi1LXqpb2CCjV0ry/SqJ2u4p/3U5c/jBYS2O\n",
              "N85ck+8UWStOqbiShOwZMYR60I/wShUaAaKyoQIA/cPqvElErP0ZytH7r8BIJKRid+OoOYjZjOCn\n",
              "m1xOPxgck/37l6deINBMLxQdpk43VXbXnvJvD96u9e+DhTpMopmqvSsRtxVMvYr9qfGq/6+wldRb\n",
              "UZy8sGqpix6LUtUsTNX6nq809l+i2xwn9djX8V+4Y6wSPxZIzUqIxPqvsVa+kImrcbdlZMPHYwNl\n",
              "lSn31ftWYEg6CMjg0maVe1grpQdz1Qs1aCrk6r/QK3fKIXG941ZHp/heA8E2vZGt2QcgAbPJVcI6\n",
              "SYDnSGpvlAzEEVRHfu3dujkox4CQj5H3H28f6sncC6QMYVPlS5bePUsVHDXfxO9RKVrVs2nE/0IZ\n",
              "JrtBQ7peMGjf4Q5TQsFVs/TjWAAAAwAqoAqpvYvjWQAABNJBmiJsQr/+OEAgvgiIiz0qAEHHsfUk\n",
              "+p7yLDNMcuJczqvHfmJrSSk7KXto/z5GKCdQzeKG4gU7AO2W0LdxZSaAkMTkW7PNNk7hQjCCxzXq\n",
              "wLdVTyScN8CXPyRyJnXFcItRLDog0Pb+DrnvJlyP4jLiIpCffDp/GpuR/+pLkQDGCEoyHtqinN6N\n",
              "/a+sFxUEKuptGLmev3wR96PPFjoOc3mafLIPboVQvfuzR0P9W5akT1j0oaHfbir5XHtVHVap58G3\n",
              "ofdGzrsS3one6bytuVek7Ge0t7pTNU0PNlsUoAKIO4vvlPZzT6FO9iwsD7W6Vbo5gDNrYBt9PoMg\n",
              "mCcCzMfBSmmHJ+UO4vkHDTaqdPmH6r7qR0u5a46fqMMYwgttdMGP/nAeIQ4Z/yTsXa7NnQxA2ntp\n",
              "XxRbNsd1kOQQvpoMqQSxPl3hbgPrD3jEvbHdWLFuXMoYmKA3kdDR895Y2Flnu8e1FHZ55l6BFb2s\n",
              "WJzet6JDGDzv70sg4nOZprV9p0/NgQx3TDUbhMHDbHgrZ3S8xQFd0EfvU/f+kseVPPb9QMfhxOwg\n",
              "EvH9u/90zHl1hkvhz8LuIB2zBs9Z41gz5TjWB3xhYOZFFnfGw/MXtcX5FQspYNYv0kqbAes2AiIr\n",
              "oH83v3RDjcOGjx5wy7B057b/OwlxD/yw+s1oQ8VOxXiPNxaMhgo8FsnhYnprDxtgsmYo7NAiGaQ1\n",
              "pY/D2vyGblrZTf1mTXycl8F0qbITqYXyLn0ME/rp+P4KTksJCl5QAWB80s3euwnR0RVYD/nBEZ5G\n",
              "dS5ea9hKS+JQwUeUL4RjJG36Ke7bQMcAqe9Zd1yEAX6Z4olnpXZhRSbofhi1GTxlYPAxm0gLGKZE\n",
              "98VHJx4WfnPHTEwawjjx9BZ32ELCZjIpNL34jhIxhaNhPV5NmK0iGEicnByBq9zHkiFyRBYC0sGU\n",
              "LaQOEZk3sr9BmBugx4yoc+65momn6iNQLN/0v4KH2l+/MCFRmH5TtgVPMS/+f2tgWc4+gMtGnuzK\n",
              "m0KaVeDmeyOF3xuBbZ72zQ1eV8ue3UawtOm97kV7xLQZULzH3VwHzlH2HyLu/bVLPd3+0axrvQXd\n",
              "TOWdL3ewUL5vGIS2bOhpPX2pY0uCshn3YOukrTowXLMk2H1uyMy7hpPNl04gkcg8xUT0dOn4z0Xd\n",
              "njUn2ybtRhj8QlTW8Eg0vgJo4oMIZ7Aw19XAT3bS82vCcRdBiczaA5trrCpB6BnMYhBdnNwk1sEM\n",
              "ZoAJ0ndbnrEGs5OaIrsl9zXRvjRpLFLxmPb7V+oDfiNS6w3XD2kh6rFOmgeG5TDd3hmRMed4TziL\n",
              "MZQPM3u4iGedyzKUW8+cUHrAH8bK/JZwL1PMte2kAAONgmuSxk4NuQ2JaRjLzlDnSHB88T5ktDD5\n",
              "3XmrFWWV/2C9pw++sxUOQ6BDW6o7iLXzQ0bmmBboCb3cfgzdt0IL0dc9sbWgm48Jc1vinK2pkStw\n",
              "C+ID1W3lVCFUWojr7K9/XNrZKRjQV+ov4xvwHazc7h8AAArmAJd7mKQ40L3xfkXvYSWQwQWgzwEq\n",
              "SdzjNOkBrVcY2rQL1DD8dppWIuDJ5bNRLKCuq0dFnlTR5TQQrNOzphgrBmVQLZNiBzabCiDd+N0h\n",
              "CSK30QQtHncheeARpbAoAAAFPAGeQXkK/wGizwiNsZt2z5GGz6+r1dPYSHDqR8EACkSnjxEiDJnw\n",
              "A4s9VO1i5v2gRi1eOzK2qusbu4q60/ffRNdzWMMRU0bYHXC1a1aQCjASQNqb2039hkG68uY0JbiM\n",
              "Y1K4ik4qHSsNW/jetwI7eDIA5GGuxAiNoBH46kI4OdZP0kft8posKM9aEYIFLE4JDP/FTGwapABG\n",
              "Z+nWS/HmMidWgG3KHxQna+kXSfVschFT4iDbbY8TeaGNQ5/2tvsagVxztRTvIDvoAFwbycDQ1qGN\n",
              "SMpKGuZN5aZwuwR2J5rDUNJOxi9mAMFDjnv559HDOk82IrfgGFWjh+lPbwJTGvgf/IM5xvOB0ENn\n",
              "0/gq9pMWtFhmh7z0oeV17jpxVmncQLC3bEhobGhanrVGrQGVNtLbRB65i0opm0kWk60vf3p0eHvC\n",
              "RJbNLJuW5+GpcXtOdDFHuWYUeSUSaEuoDM9Pcw/aXk9cmZyocSVWZL3gQQMMRwekChqmp4UqGiUv\n",
              "u3nHs2S6h4wikik1qEY/m071bvkhhdmDDf/5FqBZld7T1bl2T+2Z9+7HyBGrTuSSQ0ZeRlnNUw4s\n",
              "Do7zsb9w+z64QXNtUUZjU5y5bdktsCpr7U5M8kq5E5ZBtu8dtVXqFekVpREEKRMx4iMjIotH2jxp\n",
              "HcHBHQA7T1wkMasC1aWTzDgjzWNmeF3PceqcMN32YjGmKWZFn6xwQR2Af5RrEWVKnNTgaNf7KqyQ\n",
              "7M7D5/PsvQPjichg0V5UGnWqI6yEUVie3mad9ItLSezuwKun+hDgnhRscYXOq/4P6bxFhrYPPaSd\n",
              "aOhTNOu6Zm64fjzRtOfFoXPxDCueVCuFv50j8T7ewvdK0MPJRDG+SH1bNkz2CpXnU1DSdoMrsQcY\n",
              "y0StfkBBCvOC6vHiwV9vEg0X74sm/+njEVBIz3/LaXs2a/vCGYNwlbIFnYekyRG/F5vsn+zob8sW\n",
              "efoNLj/WHNHSz85bXDFMZ9CSKQiNXCtN6n311M6u1NY4tm2MSwFEQvtIXgWSl1wL8O5mle9iTyOY\n",
              "oLeeLWrtf7wCREqMvi4vXP2Jce/86a26DR0Q6anyXFd92ZN1pjH4dgb+y8NCyK8zQW47I0rEiqjE\n",
              "LCxKgh+eAde4QW9Z/HzZPTcWWUGRTSCZXUoIfhiXTf4rOV7XhkDC7kLqVc1Vn/Ui7oUTY+1a7CWc\n",
              "XT5wpPO3QnAwTlunlQcD+dPycrHMR0TIWE3Sequ/3svGikJtVEjWFi+TZNQe4PITqJ5CffvJe43t\n",
              "C19mwT33cXjNvxiwmfUqdrT/sVtUlDeHWCldiWZbDwujdRr9+M9KrCcZr0KfAbqf9y7S9j9YLmyS\n",
              "L1YPrx4ucMiFyqI10KIjg3QkTATUbHcPaOFmMO+DP2cqtmcXfm+fSatnZhlukkgZoFmcDkYJkdAT\n",
              "PswBQRPWK/f9w37UkdELrDEC1ZGilHVKRA7UmWkFis17jjiLFzz2GWNt0H/Syq2G0xOZ/fWRGBGK\n",
              "koLQXf9WQINteGo9vq5JMbM+ZBJ7f7s5GUxFG0UyvqH4SIO9nliLtH13p+qF8u+vk+mRrav8MsQ0\n",
              "KiyhIYGfHqHTVoSzz/VIpF/w4nA6kN3jZ5md6F3DW5qbwI2njefREu0Wa9qynZ5vSrM9Pfg+1xDx\n",
              "GNu1H6vphayI7ubL6r5P11HiPNoul2oXWY+J+6UmgF5KDtogiw3GWzxLfSjnk8GH7RRY1SlSu+c/\n",
              "wnvXK9z9mOmvjS+ALpDMbw7q42l7h6cc8IasZ8WqT34VKnJAtm9gehIP3rrIJLRbAAADUm1vb3YA\n",
              "AABsbXZoZAAAAAAAAAAAAAAAAAAAA+gAAACWAAEAAAEAAAAAAAAAAAAAAAABAAAAAAAAAAAAAAAA\n",
              "AAAAAQAAAAAAAAAAAAAAAAAAQAAAAAAAAAAAAAAAAAAAAAAAAAAAAAAAAAAAAAAAAAIAAAJ8dHJh\n",
              "awAAAFx0a2hkAAAAAwAAAAAAAAAAAAAAAQAAAAAAAACWAAAAAAAAAAAAAAAAAAAAAAABAAAAAAAA\n",
              "AAAAAAAAAAAAAQAAAAAAAAAAAAAAAAAAQAAAAAGwAAABIAAAAAAAJGVkdHMAAAAcZWxzdAAAAAAA\n",
              "AAABAAAAlgAABAAAAQAAAAAB9G1kaWEAAAAgbWRoZAAAAAAAAAAAAAAAAAAAKAAAAAYAVcQAAAAA\n",
              "AC1oZGxyAAAAAAAAAAB2aWRlAAAAAAAAAAAAAAAAVmlkZW9IYW5kbGVyAAAAAZ9taW5mAAAAFHZt\n",
              "aGQAAAABAAAAAAAAAAAAAAAkZGluZgAAABxkcmVmAAAAAAAAAAEAAAAMdXJsIAAAAAEAAAFfc3Ri\n",
              "bAAAALNzdHNkAAAAAAAAAAEAAACjYXZjMQAAAAAAAAABAAAAAAAAAAAAAAAAAAAAAAGwASAASAAA\n",
              "AEgAAAAAAAAAAQAAAAAAAAAAAAAAAAAAAAAAAAAAAAAAAAAAAAAAAAAAABj//wAAADFhdmNDAWQA\n",
              "Ff/hABhnZAAVrNlBsJaEAAADAAQAAAMAoDxYtlgBAAZo6+PLIsAAAAAcdXVpZGtoQPJfJE/Fujml\n",
              "G88DI/MAAAAAAAAAGHN0dHMAAAAAAAAAAQAAAAMAAAIAAAAAFHN0c3MAAAAAAAAAAQAAAAEAAAAo\n",
              "Y3R0cwAAAAAAAAADAAAAAQAABAAAAAABAAAGAAAAAAEAAAIAAAAAHHN0c2MAAAAAAAAAAQAAAAEA\n",
              "AAADAAAAAQAAACBzdHN6AAAAAAAAAAAAAAADAAANFgAABNYAAAVAAAAAFHN0Y28AAAAAAAAAAQAA\n",
              "ACwAAABidWR0YQAAAFptZXRhAAAAAAAAACFoZGxyAAAAAAAAAABtZGlyYXBwbAAAAAAAAAAAAAAA\n",
              "AC1pbHN0AAAAJal0b28AAAAdZGF0YQAAAAEAAAAATGF2ZjU3LjgzLjEwMA==\n",
              "\">\n",
              "  Your browser does not support the video tag.\n",
              "</video>"
            ]
          },
          "metadata": {},
          "execution_count": 9
        },
        {
          "output_type": "display_data",
          "data": {
            "text/plain": [
              "<Figure size 432x288 with 1 Axes>"
            ],
            "image/png": "[encoded data removed]"
          },
          "metadata": {
            "needs_background": "light"
          }
        }
      ],
      "source": [
        "from matplotlib.animation import FuncAnimation\n",
        "\n",
        "fig, ax = plt.subplots()\n",
        "ax.set_xlim(0,1)\n",
        "ax.set_ylim(-1,2)\n",
        "line, = ax.plot(0,0)\n",
        "\n",
        "xs = np.array([x for i in range(len(evec_list))])\n",
        "data = np.array([xs, evec_list])\n",
        "\n",
        "x_list = x\n",
        "y_list = []\n",
        "\n",
        "def animation_frame(i):\n",
        "  y_list = evec_list[i]\n",
        "\n",
        "  line.set_xdata(x_list)\n",
        "  line.set_ydata(y_list)\n",
        "\n",
        "\n",
        "  # y_data = data[i]\n",
        "\n",
        "  # line.set_xdata(x)\n",
        "  # line.set_ydata(y_data)\n",
        "  return line, \n",
        "\n",
        "from matplotlib import rc\n",
        "rc('animation', html='jshtml')\n",
        "\n",
        "animation = FuncAnimation(fig, func=animation_frame, frames=np.arange(0, len(evec_list), 1), interval=50)\n",
        "\n",
        "# animation\n",
        "\n",
        "from IPython.display import HTML\n",
        "HTML(animation.to_html5_video())"
      ]
    }
  ],
  "metadata": {
    "colab": {
      "collapsed_sections": [],
      "provenance": [],
      "include_colab_link": true
    },
    "kernelspec": {
      "display_name": "Python 3",
      "name": "python3"
    },
    "language_info": {
      "name": "python"
    }
  },
  "nbformat": 4,
  "nbformat_minor": 0
}